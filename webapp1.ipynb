{
 "cells": [
  {
   "cell_type": "code",
   "execution_count": null,
   "id": "5c6c1c56-03e8-46e8-9ed1-9560cc744877",
   "metadata": {
    "scrolled": true
   },
   "outputs": [
    {
     "name": "stdout",
     "output_type": "stream",
     "text": [
      " * Serving Flask app '__main__'\n",
      " * Debug mode: on\n"
     ]
    },
    {
     "name": "stderr",
     "output_type": "stream",
     "text": [
      "WARNING: This is a development server. Do not use it in a production deployment. Use a production WSGI server instead.\n",
      " * Running on http://127.0.0.1:5000\n",
      "Press CTRL+C to quit\n"
     ]
    }
   ],
   "source": [
    "from flask import Flask, request, render_template\n",
    "import joblib\n",
    "import pandas as pd\n",
    "\n",
    "# Create the Flask app\n",
    "app = Flask(__name__)\n",
    "\n",
    "# Load the saved model\n",
    "model = joblib.load('best_rf_model.pkl')\n",
    "\n",
    "# Define a route for the home page\n",
    "@app.route('/')\n",
    "def home():\n",
    "    return render_template('index.html')\n",
    "\n",
    "# Define a route for making predictions\n",
    "@app.route('/predict', methods=['POST'])\n",
    "def predict():\n",
    "    # Get data from the form\n",
    "    data31 = request.form.to_dict()\n",
    "    data_df = pd.DataFrame([data31])\n",
    "\n",
    "    # Print the DataFrame to debug\n",
    "    print(\"Original DataFrame:\")\n",
    "    print(data_df.head())\n",
    "\n",
    "    # Convert data types as needed\n",
    "    data_df = data_df.apply(pd.to_numeric, errors='coerce')\n",
    "\n",
    "    # Print DataFrame after type conversion\n",
    "    print(\"DataFrame after conversion to numeric:\")\n",
    "    print(data_df.head())\n",
    "\n",
    "    # Define the expected feature names in the order the model was trained with\n",
    "    expected_columns = [\n",
    "        'area', 'latitude', 'longitude', 'Bedrooms', 'Bathrooms', 'Balcony',\n",
    "        'parking', 'Lift', 'Price_sqft', 'Furnished', 'Semi-Furnished',\n",
    "        'Unfurnished', 'New Property', 'Resale', 'Flat', 'Individual House'\n",
    "    ]\n",
    "\n",
    "    # Ensure all expected columns are present\n",
    "    for col in expected_columns:\n",
    "        if col not in data_df.columns:\n",
    "            data_df[col] = 0  # Default value for missing columns\n",
    "\n",
    "    # Reorder columns to match the trained model's expected order\n",
    "    data_df = data_df[expected_columns]\n",
    "\n",
    "    # Print DataFrame after reordering columns\n",
    "    print(\"DataFrame after reordering columns:\")\n",
    "    print(data_df.head())\n",
    "\n",
    "    prediction = model.predict(data_df)\n",
    "    print(\"Prediction result:\")\n",
    "    print(prediction)\n",
    "\n",
    "    # Return the prediction\n",
    "    return render_template('index.html', prediction_text=f'Predicted House Price: INR : {prediction[0]:,.2f}')\n",
    "\n",
    "# Run the Flask app\n",
    "if __name__ == \"__main__\":\n",
    "    app.run(debug=True, use_reloader=False)"
   ]
  },
  {
   "cell_type": "code",
   "execution_count": null,
   "id": "f5ab2747-27b6-4f86-8694-bc60186b2657",
   "metadata": {},
   "outputs": [],
   "source": []
  }
 ],
 "metadata": {
  "kernelspec": {
   "display_name": "Python 3 (ipykernel)",
   "language": "python",
   "name": "python3"
  },
  "language_info": {
   "codemirror_mode": {
    "name": "ipython",
    "version": 3
   },
   "file_extension": ".py",
   "mimetype": "text/x-python",
   "name": "python",
   "nbconvert_exporter": "python",
   "pygments_lexer": "ipython3",
   "version": "3.12.4"
  },
  "panel-cell-order": [
   "ffe2bda8-e45b-4a17-971e-915eb215960a"
  ]
 },
 "nbformat": 4,
 "nbformat_minor": 5
}
