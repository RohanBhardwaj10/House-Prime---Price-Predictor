{
 "cells": [
  {
   "cell_type": "code",
   "execution_count": 5,
   "id": "a6836ff4-5581-4e84-a32f-344887a1cfc2",
   "metadata": {},
   "outputs": [
    {
     "name": "stdout",
     "output_type": "stream",
     "text": [
      " * Serving Flask app '__main__'\n",
      " * Debug mode: on\n"
     ]
    },
    {
     "name": "stderr",
     "output_type": "stream",
     "text": [
      "WARNING: This is a development server. Do not use it in a production deployment. Use a production WSGI server instead.\n",
      " * Running on http://127.0.0.1:5000\n",
      "Press CTRL+C to quit\n"
     ]
    }
   ],
   "source": [
    "from flask import Flask, request, render_template\n",
    "import joblib\n",
    "import pandas as pd\n",
    "import threading\n",
    "\n",
    "# Create the Flask app\n",
    "app = Flask(__name__)\n",
    "\n",
    "# Load the saved model\n",
    "model = joblib.load('best_rf_model.pkl')\n",
    "\n",
    "# Define a route for the home page\n",
    "@app.route('/')\n",
    "def home():\n",
    "    return render_template('index.html')\n",
    "\n",
    "# Define a route for making predictions\n",
    "@app.route('/predict', methods=['POST'])\n",
    "def predict():\n",
    "    # Get data from the form\n",
    "    data31 = request.form.to_dict()\n",
    "    data_df = pd.DataFrame([data31])\n",
    "\n",
    "    # Define the expected feature names\n",
    "    expected_columns = [\n",
    "        'area', 'latitude', 'longitude', 'Bedrooms', 'Bathrooms', 'Balcony',\n",
    "        'parking', 'Lift', 'Price_sqft', 'Furnished', 'Semi-Furnished',\n",
    "        'Unfurnished', 'New Property', 'Resale', 'Flat', 'Individual House'\n",
    "    ]\n",
    "\n",
    "    # Convert data types to numeric\n",
    "    data_df = data_df.apply(pd.to_numeric, errors='coerce')\n",
    "\n",
    "    # Ensure all expected columns are present\n",
    "    for col in expected_columns:\n",
    "        if col not in data_df.columns:\n",
    "            data_df[col] = 0  # Default value for missing columns\n",
    "\n",
    "    # Reorder columns to match the trained model's expected order\n",
    "    data_df = data_df[expected_columns]\n",
    "\n",
    "    # Make a prediction using the loaded model\n",
    "    prediction = model.predict(data_df)\n",
    "\n",
    "    # Print the prediction for debugging\n",
    "    print(f'Predicted House Price: ${prediction[0]:,.2f}')\n",
    "\n",
    "    # Return the prediction\n",
    "    return render_template('index.html', prediction_text=f'Predicted House Price: ${prediction[0]:,.2f}')\n",
    "\n",
    "def run_app():\n",
    "    app.run(debug=True, use_reloader=False)\n",
    "\n",
    "# Start the Flask app in a background thread\n",
    "thread = threading.Thread(target=run_app)\n",
    "thread.start()\n",
    "\n"
   ]
  },
  {
   "cell_type": "code",
   "execution_count": null,
   "id": "f0475de7-8b13-4f15-b39a-1f1c34955571",
   "metadata": {},
   "outputs": [],
   "source": []
  }
 ],
 "metadata": {
  "kernelspec": {
   "display_name": "Python 3 (ipykernel)",
   "language": "python",
   "name": "python3"
  },
  "language_info": {
   "codemirror_mode": {
    "name": "ipython",
    "version": 3
   },
   "file_extension": ".py",
   "mimetype": "text/x-python",
   "name": "python",
   "nbconvert_exporter": "python",
   "pygments_lexer": "ipython3",
   "version": "3.12.4"
  }
 },
 "nbformat": 4,
 "nbformat_minor": 5
}
